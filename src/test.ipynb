{
 "cells": [
  {
   "cell_type": "code",
   "execution_count": 9,
   "metadata": {},
   "outputs": [
    {
     "name": "stdout",
     "output_type": "stream",
     "text": [
      "Files already downloaded and verified\n",
      "100\n",
      "10000\n",
      "100\n"
     ]
    }
   ],
   "source": [
    "from torchvision import datasets\n",
    "import random\n",
    "from torch.utils.data import Subset\n",
    "from torchvision.transforms import transforms\n",
    "from torch.utils.data import DataLoader\n",
    "\n",
    "\n",
    "\n",
    "transform = transforms.Compose([\n",
    "    transforms.Resize(224),\n",
    "    transforms.ToTensor(),\n",
    "    transforms.Normalize([0.5, 0.5, 0.5], [0.5, 0.5, 0.5])\n",
    "])\n",
    "transform=transform\n",
    "\n",
    "data_loader =  datasets.CIFAR10('../data/dummyEx/CIFAR10/', train=False, transform=transform, download=True)\n",
    "\n",
    "random_idx = []\n",
    "for i in range(0, 100):\n",
    "    random_idx.append(random.randint(0,9))\n",
    "\n",
    "print(len(random_idx))\n",
    "\n",
    "print(len(data_loader))\n",
    "    \n",
    "sub_dataset = Subset(data_loader, random_idx)\n",
    "print(len(sub_dataset))\n",
    "\n"
   ]
  },
  {
   "cell_type": "code",
   "execution_count": 28,
   "metadata": {},
   "outputs": [
    {
     "name": "stdout",
     "output_type": "stream",
     "text": [
      "Files already downloaded and verified\n",
      "10000\n"
     ]
    },
    {
     "ename": "TypeError",
     "evalue": "object of type 'enumerate' has no len()",
     "output_type": "error",
     "traceback": [
      "\u001b[0;31m---------------------------------------------------------------------------\u001b[0m",
      "\u001b[0;31mTypeError\u001b[0m                                 Traceback (most recent call last)",
      "\u001b[1;32m/home/amirahsaei/Desktop/DAC/ViT/src/test.ipynb Cell 2\u001b[0m in \u001b[0;36m<cell line: 22>\u001b[0;34m()\u001b[0m\n\u001b[1;32m     <a href='vscode-notebook-cell://ssh-remote%2B10.173.214.124/home/amirahsaei/Desktop/DAC/ViT/src/test.ipynb#W1sdnNjb2RlLXJlbW90ZQ%3D%3D?line=17'>18</a>\u001b[0m total_batch \u001b[39m=\u001b[39m \u001b[39mlen\u001b[39m(data_loader)\n\u001b[1;32m     <a href='vscode-notebook-cell://ssh-remote%2B10.173.214.124/home/amirahsaei/Desktop/DAC/ViT/src/test.ipynb#W1sdnNjb2RlLXJlbW90ZQ%3D%3D?line=19'>20</a>\u001b[0m x \u001b[39m=\u001b[39m \u001b[39menumerate\u001b[39m(data_loader)\n\u001b[0;32m---> <a href='vscode-notebook-cell://ssh-remote%2B10.173.214.124/home/amirahsaei/Desktop/DAC/ViT/src/test.ipynb#W1sdnNjb2RlLXJlbW90ZQ%3D%3D?line=21'>22</a>\u001b[0m \u001b[39mprint\u001b[39m(\u001b[39mlen\u001b[39;49m(x))\n",
      "\u001b[0;31mTypeError\u001b[0m: object of type 'enumerate' has no len()"
     ]
    }
   ],
   "source": [
    "from data_loaders import *\n",
    "import os\n",
    "\n",
    "data_loader = eval(\"{}DataLoader\".format('CIFAR10'))(\n",
    "                data_dir=os.path.join(\"./data/CIFAR10\", \"CIFAR10\"),\n",
    "                image_size=224,\n",
    "                batch_size=1,\n",
    "                num_workers=8,\n",
    "                split='val')\n",
    "\n",
    "print(len(data_loader))\n",
    "\n",
    "\n",
    "random_idx = []\n",
    "for i in range(0, 100):\n",
    "    random_idx.append(random.randint(0,9))\n",
    "\n",
    "total_batch = len(data_loader)\n",
    "\n",
    "x = enumerate(data_loader)\n",
    "\n",
    "print(len(x))\n",
    "\n",
    "\n",
    "\n",
    "\n"
   ]
  },
  {
   "cell_type": "code",
   "execution_count": null,
   "metadata": {},
   "outputs": [],
   "source": []
  },
  {
   "cell_type": "code",
   "execution_count": null,
   "metadata": {},
   "outputs": [],
   "source": []
  },
  {
   "cell_type": "code",
   "execution_count": null,
   "metadata": {},
   "outputs": [],
   "source": []
  },
  {
   "cell_type": "code",
   "execution_count": 34,
   "metadata": {},
   "outputs": [
    {
     "name": "stdout",
     "output_type": "stream",
     "text": [
      "10\n"
     ]
    }
   ],
   "source": [
    "import random\n",
    "print(random.randint(0, 10))"
   ]
  },
  {
   "cell_type": "code",
   "execution_count": null,
   "metadata": {},
   "outputs": [],
   "source": []
  },
  {
   "cell_type": "code",
   "execution_count": null,
   "metadata": {},
   "outputs": [],
   "source": []
  },
  {
   "cell_type": "code",
   "execution_count": 76,
   "metadata": {},
   "outputs": [
    {
     "name": "stdout",
     "output_type": "stream",
     "text": [
      "a\n",
      "m\n",
      "i\n",
      "r\n"
     ]
    }
   ],
   "source": [
    "str = 'amir'\n",
    "for i in range(0, len(str)):\n",
    "    print(str[i])"
   ]
  },
  {
   "cell_type": "code",
   "execution_count": 42,
   "metadata": {},
   "outputs": [
    {
     "name": "stdout",
     "output_type": "stream",
     "text": [
      "1\n",
      "0\n"
     ]
    }
   ],
   "source": [
    "my_lis = [1, 2]\n",
    "for i in reversed(range(0, len(my_lis))):\n",
    "    print(i)"
   ]
  }
 ],
 "metadata": {
  "kernelspec": {
   "display_name": "Python 3.10.6 ('torch': conda)",
   "language": "python",
   "name": "python3"
  },
  "language_info": {
   "codemirror_mode": {
    "name": "ipython",
    "version": 3
   },
   "file_extension": ".py",
   "mimetype": "text/x-python",
   "name": "python",
   "nbconvert_exporter": "python",
   "pygments_lexer": "ipython3",
   "version": "3.10.6"
  },
  "orig_nbformat": 4,
  "vscode": {
   "interpreter": {
    "hash": "51ce5dbffc77efed912eabe0d708947a3ff32458728e92d43706d28c40ed10ab"
   }
  }
 },
 "nbformat": 4,
 "nbformat_minor": 2
}
